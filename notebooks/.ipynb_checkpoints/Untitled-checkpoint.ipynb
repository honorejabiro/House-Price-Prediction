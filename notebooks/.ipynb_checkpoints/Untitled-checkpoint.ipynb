{
 "cells": [
  {
   "cell_type": "code",
   "execution_count": null,
   "id": "1761159b-c0f1-4cb2-84df-dcabe752ba88",
   "metadata": {},
   "outputs": [],
   "source": [
    "import pandas as pd\n",
    "import seaborn as sns\n",
    "import matplotlib.pyplot as plt\n",
    "import numpy as np"
   ]
  },
  {
   "cell_type": "code",
   "execution_count": null,
   "id": "4a3c426b-2d73-43a3-8cee-f4688e3f5c10",
   "metadata": {},
   "outputs": [],
   "source": [
    "data = pd.read_csv(\"../data/housing.csv\")"
   ]
  },
  {
   "cell_type": "code",
   "execution_count": null,
   "id": "74039492-7677-4a3e-b4e8-a3e52e9aca35",
   "metadata": {},
   "outputs": [],
   "source": [
    "data"
   ]
  },
  {
   "cell_type": "code",
   "execution_count": null,
   "id": "12725d46-3297-44fb-8722-32843e862b4c",
   "metadata": {},
   "outputs": [],
   "source": [
    "data.info()"
   ]
  },
  {
   "cell_type": "code",
   "execution_count": null,
   "id": "4137088d-d176-4969-b811-168d89a7dc40",
   "metadata": {},
   "outputs": [],
   "source": [
    "data.dropna(inplace=True)"
   ]
  },
  {
   "cell_type": "code",
   "execution_count": null,
   "id": "2f574597-1511-4c42-a7a6-76b7ae729f8e",
   "metadata": {},
   "outputs": [],
   "source": [
    "data.info()"
   ]
  },
  {
   "cell_type": "code",
   "execution_count": null,
   "id": "11061b27-1b6b-4462-af96-cfd7d33269ba",
   "metadata": {},
   "outputs": [],
   "source": [
    "from sklearn.model_selection import train_test_split\n",
    "x = data.drop(['median_house_value'], axis=1)\n",
    "y = data[\"median_house_value\"]"
   ]
  },
  {
   "cell_type": "code",
   "execution_count": null,
   "id": "78374364-218a-4d06-b75e-d7f62d33a6b9",
   "metadata": {},
   "outputs": [],
   "source": [
    "x_train, x_test, y_train, y_test = train_test_split(x, y, test_size=0.2)"
   ]
  },
  {
   "cell_type": "code",
   "execution_count": null,
   "id": "6e178f05-5afa-413a-995c-28be1da58c7f",
   "metadata": {},
   "outputs": [],
   "source": [
    "train_data = x_test.join(y_test)"
   ]
  },
  {
   "cell_type": "code",
   "execution_count": null,
   "id": "38bddc64-309d-4c23-a348-4129ec9d1046",
   "metadata": {},
   "outputs": [],
   "source": [
    "train_data"
   ]
  },
  {
   "cell_type": "code",
   "execution_count": null,
   "id": "9f3daa29-d728-48fc-98d5-1183bd2b50ae",
   "metadata": {},
   "outputs": [],
   "source": [
    "train_data.hist(figsize=(15, 8))"
   ]
  },
  {
   "cell_type": "code",
   "execution_count": null,
   "id": "f349d1f6-98d6-46dd-a3e3-40aab1084bbc",
   "metadata": {},
   "outputs": [],
   "source": [
    "train_data"
   ]
  },
  {
   "cell_type": "code",
   "execution_count": null,
   "id": "92828e9c-34bf-40e3-bac6-3223ddd0cd19",
   "metadata": {
    "scrolled": true
   },
   "outputs": [],
   "source": [
    "train_data.drop(\"ocean_proximity\", axis=1).corr()"
   ]
  },
  {
   "cell_type": "code",
   "execution_count": null,
   "id": "1ef3617c-7ccd-4f84-91a8-4ccee4c2a906",
   "metadata": {},
   "outputs": [],
   "source": [
    "plt.figure(figsize=(15, 8))\n",
    "sns.heatmap(\n",
    "    train_data.drop(\"ocean_proximity\", axis=1).corr(),\n",
    "    annot=True,\n",
    "    cmap=\"YlGnBu\"\n",
    ")\n",
    "plt.title(\"Correlation Matrix\")\n",
    "plt.show()"
   ]
  },
  {
   "cell_type": "code",
   "execution_count": null,
   "id": "dcd8ffee-0e11-4776-8ec2-5be6510029fc",
   "metadata": {},
   "outputs": [],
   "source": [
    "train_data[\"total_rooms\"] = np.log(train_data['total_rooms'] + 1)\n",
    "train_data[\"total_bedrooms\"] = np.log(train_data['total_bedrooms'] + 1)\n",
    "train_data[\"population\"] = np.log(train_data['population'] + 1)\n",
    "train_data[\"households\"] = np.log(train_data['households'] + 1)"
   ]
  },
  {
   "cell_type": "code",
   "execution_count": null,
   "id": "126b9a56-7484-42ea-a5bf-e598773d66ba",
   "metadata": {},
   "outputs": [],
   "source": [
    "train_data.hist(figsize=(15, 8))"
   ]
  },
  {
   "cell_type": "code",
   "execution_count": null,
   "id": "473d1884-f186-424d-b348-d0d915058f81",
   "metadata": {},
   "outputs": [],
   "source": [
    "train_data.ocean_proximity.value_counts()"
   ]
  },
  {
   "cell_type": "code",
   "execution_count": null,
   "id": "628ccac9-4df0-4589-a5b8-bd0fd3a51317",
   "metadata": {},
   "outputs": [],
   "source": [
    "train_data = train_data.join(pd.get_dummies(train_data['ocean_proximity']).astype(int)).drop(['ocean_proximity'], axis=1)"
   ]
  },
  {
   "cell_type": "code",
   "execution_count": null,
   "id": "56ab7d89-7bdf-4f21-8f26-269ab77269b4",
   "metadata": {},
   "outputs": [],
   "source": [
    "train_data"
   ]
  },
  {
   "cell_type": "code",
   "execution_count": null,
   "id": "833e9ce2-64d4-4644-ae08-6f0b81b7209a",
   "metadata": {},
   "outputs": [],
   "source": [
    "plt.figure(figsize=(15, 8))\n",
    "sns.heatmap(\n",
    "    train_data.corr(),\n",
    "    annot=True,\n",
    "    cmap=\"YlGnBu\"\n",
    ")\n",
    "plt.show()"
   ]
  },
  {
   "cell_type": "code",
   "execution_count": null,
   "id": "ef7c7415-3b44-456f-ae23-7abb9d1e2549",
   "metadata": {},
   "outputs": [],
   "source": [
    "plt.figure(figsize=(15, 8))\n",
    "sns.scatterplot(x=\"latitude\", y=\"longitude\", data=train_data, hue=\"median_house_value\", palette=\"coolwarm\")\n",
    "plt.show()"
   ]
  },
  {
   "cell_type": "code",
   "execution_count": 155,
   "id": "27d1f0de-bfc5-4967-affc-a8822349c8bb",
   "metadata": {},
   "outputs": [],
   "source": [
    "train_data[\"bedroom_ratio\"] = train_data[\"total_rooms\"] / train_data[\"total_bedrooms\"]\n",
    "train_data[\"household_rooms\"] = train_data[\"total_rooms\"] / train_data[\"households\"]"
   ]
  },
  {
   "cell_type": "code",
   "execution_count": null,
   "id": "d811b69b-8b50-44fe-b066-4f17a287a1d5",
   "metadata": {},
   "outputs": [],
   "source": [
    "train_data.iloc[0:10]"
   ]
  },
  {
   "cell_type": "code",
   "execution_count": null,
   "id": "431373b6-2d9e-48b1-b9b3-5b4ddbaefc38",
   "metadata": {},
   "outputs": [],
   "source": []
  }
 ],
 "metadata": {
  "kernelspec": {
   "display_name": "Python 3 (ipykernel)",
   "language": "python",
   "name": "python3"
  },
  "language_info": {
   "codemirror_mode": {
    "name": "ipython",
    "version": 3
   },
   "file_extension": ".py",
   "mimetype": "text/x-python",
   "name": "python",
   "nbconvert_exporter": "python",
   "pygments_lexer": "ipython3",
   "version": "3.11.4"
  }
 },
 "nbformat": 4,
 "nbformat_minor": 5
}
